{
 "cells": [
  {
   "cell_type": "code",
   "execution_count": 14,
   "metadata": {},
   "outputs": [],
   "source": [
    "import matplotlib.pyplot as plt\n",
    "from scipy.stats import multivariate_normal\n",
    "import numpy as np"
   ]
  },
  {
   "cell_type": "code",
   "execution_count": 15,
   "metadata": {},
   "outputs": [
    {
     "data": {
      "text/plain": [
       "[<matplotlib.lines.Line2D at 0x7feeded7c940>]"
      ]
     },
     "execution_count": 15,
     "metadata": {},
     "output_type": "execute_result"
    }
   ],
   "source": [
    "x = np.linspace(0, 5, 10, endpoint=False)\n",
    "y = multivariate_normal.pdf(x, mean=2.5, cov=0.5); \n",
    "fig1 = plt.figure()\n",
    "ax = fig1.add_subplot(111)\n",
    "ax.plot(x, y)"
   ]
  },
  {
   "cell_type": "code",
   "execution_count": 17,
   "metadata": {},
   "outputs": [
    {
     "data": {
      "image/png": "[encoded data removed]",
      "text/plain": [
       "<matplotlib.figure.Figure at 0x7fef2c853dd8>"
      ]
     },
     "metadata": {},
     "output_type": "display_data"
    }
   ],
   "source": [
    "plt.show()"
   ]
  },
  {
   "cell_type": "code",
   "execution_count": 8,
   "metadata": {},
   "outputs": [],
   "source": [
    "from scipy.stats import mvn\n",
    "import numpy as np\n",
    "low = np.array([-10, -10])\n",
    "upp = np.array([.1, -.2])\n",
    "mu = np.array([-.3, .17])\n",
    "S = np.array([[1.2,.35],[.35,2.1]])"
   ]
  },
  {
   "cell_type": "code",
   "execution_count": 9,
   "metadata": {},
   "outputs": [],
   "source": [
    "p,i = mvn.mvnun(low,upp,mu,S)"
   ]
  },
  {
   "cell_type": "code",
   "execution_count": 18,
   "metadata": {},
   "outputs": [],
   "source": [
    "import json"
   ]
  },
  {
   "cell_type": "code",
   "execution_count": null,
   "metadata": {},
   "outputs": [],
   "source": []
  },
  {
   "cell_type": "code",
   "execution_count": 33,
   "metadata": {},
   "outputs": [],
   "source": [
    "with open(\"deployment.json\") as json_data:\n",
    "    a = json.load(json_data)\n"
   ]
  },
  {
   "cell_type": "code",
   "execution_count": 53,
   "metadata": {},
   "outputs": [],
   "source": [
    "a= np.random.rand(100)"
   ]
  },
  {
   "cell_type": "code",
   "execution_count": 54,
   "metadata": {},
   "outputs": [
    {
     "data": {
      "text/plain": [
       "array([0.83388203, 0.86163627, 0.25168258, 0.00632923, 0.09934001,\n",
       "       0.1996929 , 0.78825938, 0.56783079, 0.84131662, 0.75844792,\n",
       "       0.11749546, 0.3091664 , 0.50515104, 0.2446294 , 0.32717342,\n",
       "       0.93609581, 0.77085594, 0.57384323, 0.67098734, 0.40696694,\n",
       "       0.43409946, 0.60083802, 0.68696529, 0.70575803, 0.70891128,\n",
       "       0.45379882, 0.65935495, 0.51017887, 0.57386941, 0.8330125 ,\n",
       "       0.09645399, 0.23476012, 0.52099155, 0.30325513, 0.32908076,\n",
       "       0.56533538, 0.20209806, 0.79966163, 0.88256888, 0.20889589,\n",
       "       0.08284583, 0.00594789, 0.94878543, 0.427655  , 0.45692269,\n",
       "       0.90327634, 0.62624012, 0.73638768, 0.07499385, 0.78197007,\n",
       "       0.28330149, 0.10184453, 0.10697773, 0.12615709, 0.36809332,\n",
       "       0.31468963, 0.04771908, 0.99006487, 0.4208182 , 0.90887267,\n",
       "       0.4380489 , 0.51177567, 0.46077413, 0.76319166, 0.695966  ,\n",
       "       0.03552526, 0.50386715, 0.81833694, 0.79797388, 0.2917824 ,\n",
       "       0.0510628 , 0.5168152 , 0.80673006, 0.82269325, 0.26945443,\n",
       "       0.20934766, 0.3628148 , 0.32472321, 0.00156307, 0.59252586,\n",
       "       0.69824752, 0.07222925, 0.93283565, 0.98504684, 0.63390455,\n",
       "       0.52354176, 0.62345456, 0.29667067, 0.7394586 , 0.33653713,\n",
       "       0.26074828, 0.52948491, 0.6372809 , 0.47174948, 0.30537991,\n",
       "       0.57771034, 0.86565365, 0.35252462, 0.77630996, 0.15189153])"
      ]
     },
     "execution_count": 54,
     "metadata": {},
     "output_type": "execute_result"
    }
   ],
   "source": []
  },
  {
   "cell_type": "code",
   "execution_count": 55,
   "metadata": {},
   "outputs": [],
   "source": [
    "b= np.random.rand(100)"
   ]
  },
  {
   "cell_type": "code",
   "execution_count": 56,
   "metadata": {},
   "outputs": [
    {
     "data": {
      "text/plain": [
       "array([0.46450528, 0.71616357, 0.48006323, 0.97913579, 0.20905794,\n",
       "       0.07066461, 0.39612979, 0.48948096, 0.52006812, 0.60861977,\n",
       "       0.81106771, 0.12119182, 0.00682979, 0.42851603, 0.27419559,\n",
       "       0.47379431, 0.26665335, 0.25096732, 0.21098709, 0.47494726,\n",
       "       0.1884004 , 0.00191712, 0.87034291, 0.52517411, 0.27436137,\n",
       "       0.46834976, 0.80765535, 0.53623765, 0.55250201, 0.71587268,\n",
       "       0.78725463, 0.05916881, 0.85872011, 0.38429382, 0.18085113,\n",
       "       0.38585802, 0.45313596, 0.15894713, 0.37305878, 0.9529688 ,\n",
       "       0.15138058, 0.49188523, 0.60163018, 0.60094204, 0.5498767 ,\n",
       "       0.00582413, 0.6926916 , 0.61755406, 0.28449175, 0.829214  ,\n",
       "       0.72172189, 0.70761389, 0.31997982, 0.86788612, 0.24859358,\n",
       "       0.61985324, 0.33031052, 0.14522302, 0.11724303, 0.19588721,\n",
       "       0.41423302, 0.67907918, 0.23965869, 0.13104918, 0.03843206,\n",
       "       0.36911672, 0.39824467, 0.95204848, 0.73291439, 0.80506406,\n",
       "       0.75070005, 0.21543759, 0.07022564, 0.44653615, 0.17321831,\n",
       "       0.32209669, 0.92128075, 0.03691455, 0.93705941, 0.10328395,\n",
       "       0.75460198, 0.18072104, 0.31282135, 0.94253562, 0.48678433,\n",
       "       0.74356356, 0.86561046, 0.9151679 , 0.6504173 , 0.60023902,\n",
       "       0.68401579, 0.15144031, 0.09910908, 0.58737909, 0.55554569,\n",
       "       0.23010049, 0.23732767, 0.61886685, 0.86372637, 0.41727047])"
      ]
     },
     "execution_count": 56,
     "metadata": {},
     "output_type": "execute_result"
    }
   ],
   "source": [
    "b"
   ]
  }
 ],
 "metadata": {
  "kernelspec": {
   "display_name": "Python 3",
   "language": "python",
   "name": "python3"
  },
  "language_info": {
   "codemirror_mode": {
    "name": "ipython",
    "version": 3
   },
   "file_extension": ".py",
   "mimetype": "text/x-python",
   "name": "python",
   "nbconvert_exporter": "python",
   "pygments_lexer": "ipython3",
   "version": "3.6.3"
  }
 },
 "nbformat": 4,
 "nbformat_minor": 2
}
