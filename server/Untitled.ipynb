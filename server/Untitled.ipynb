{
 "cells": [
  {
   "cell_type": "code",
   "execution_count": 9,
   "metadata": {},
   "outputs": [],
   "source": [
    "import sample\n",
    "import load_spec\n",
    "import json"
   ]
  },
  {
   "cell_type": "code",
   "execution_count": 2,
   "metadata": {},
   "outputs": [
    {
     "name": "stderr",
     "output_type": "stream",
     "text": [
      "Exception in thread Thread-4:\n",
      "Traceback (most recent call last):\n",
      "  File \"/home/sci/orpheus92/anaconda3/lib/python3.6/threading.py\", line 916, in _bootstrap_inner\n",
      "    self.run()\n",
      "  File \"/home/sci/orpheus92/anaconda3/lib/python3.6/threading.py\", line 864, in run\n",
      "    self._target(*self._args, **self._kwargs)\n",
      "  File \"/home/sci/orpheus92/WebstormProjects/vis/RegulusV2/regulus/server/sample.py\", line 18, in sample_in_thread\n",
      "    subprocess.run(['python', '-m', 'scenario', '-t', 'Transition_scenario.xml', '-o', sim_dir, '-p',param, '-r', sim_out], check=True)\n",
      "  File \"/home/sci/orpheus92/anaconda3/lib/python3.6/subprocess.py\", line 418, in run\n",
      "    output=stdout, stderr=stderr)\n",
      "subprocess.CalledProcessError: Command '['python', '-m', 'scenario', '-t', 'Transition_scenario.xml', '-o', 'sim', '-p', 'resample_params.csv', '-r', 'newparams.csv']' returned non-zero exit status 1.\n",
      "\n"
     ]
    }
   ],
   "source": [
    "sample.createsample(None)"
   ]
  },
  {
   "cell_type": "code",
   "execution_count": 10,
   "metadata": {},
   "outputs": [],
   "source": [
    "received_json = 'spec.json'\n",
    "with open(received_json) as json_data:\n",
    "    received = json.load(json_data)\n",
    "[new_reg, dims, sample_input] = load_spec.load(received)"
   ]
  },
  {
   "cell_type": "code",
   "execution_count": 15,
   "metadata": {},
   "outputs": [
    {
     "data": {
      "text/plain": [
       "6"
      ]
     },
     "execution_count": 15,
     "metadata": {},
     "output_type": "execute_result"
    }
   ],
   "source": [
    "len(sample_input[0])"
   ]
  },
  {
   "cell_type": "code",
   "execution_count": 2,
   "metadata": {},
   "outputs": [],
   "source": [
    "a = \"[0.9947791669163311, 0.9929171211298184, -0.023902389048420413, 1.341408263475087, 11.712794978678637, 30.429022374055123]\",\"[0.9927030853664178, 0.9959323476125019, -0.02178692035666045, 2.4958494920162835, 12.104003762522288, 30.04376855163565]\",\"[0.9953317771232221, 0.9958005706257469, 0.0023417321543695163, 2.077477857880027, 12.600659060298213, 31.275733968225275]\",\"[0.9932964983064108, 0.9923411903734202, -0.038343569090512515, 2.0357976060660725, 11.586320227395467, 28.786014656420978]\",\"[0.9941752312471205, 0.9966773770132272, -0.03606625960917691, 2.7984391660257324, 12.356497606862417, 29.82835677881823]\",\"[0.9963642990232128, 0.9954218184482372, 0.037351038152656654, 3.6921166726442656, 12.680375327726265, 30.74840966992711]\",\"[0.9951276033982447, 0.9963126892884051, 0.07105130192509194, 3.6083191186782, 11.572483055029478, 29.19482338054283]\",\"[0.9934677925638004, 0.9951272746375602, 0.08019081441149144, 3.8006259346681213, 12.533116940432386, 32.07417538845978]\",\"[0.9948743960748656, 0.9960278108990729, 0.05115153813709132, 3.51957749075428, 12.219205544916024, 31.810336176859582]\",\"[0.9939955263654873, 0.9934823941836155, -0.003091232176515038, 1.2525669607100807, 12.645214811080166, 27.677377577120776]\""
   ]
  },
  {
   "cell_type": "code",
   "execution_count": 3,
   "metadata": {},
   "outputs": [
    {
     "data": {
      "text/plain": [
       "tuple"
      ]
     },
     "execution_count": 3,
     "metadata": {},
     "output_type": "execute_result"
    }
   ],
   "source": [
    "type(a)"
   ]
  }
 ],
 "metadata": {
  "kernelspec": {
   "display_name": "Python 3",
   "language": "python",
   "name": "python3"
  },
  "language_info": {
   "codemirror_mode": {
    "name": "ipython",
    "version": 3
   },
   "file_extension": ".py",
   "mimetype": "text/x-python",
   "name": "python",
   "nbconvert_exporter": "python",
   "pygments_lexer": "ipython3",
   "version": "3.6.3"
  }
 },
 "nbformat": 4,
 "nbformat_minor": 2
}
